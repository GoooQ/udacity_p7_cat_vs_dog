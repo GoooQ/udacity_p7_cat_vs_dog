{
 "cells": [
  {
   "cell_type": "markdown",
   "metadata": {},
   "source": [
    "# 猫狗大战 毕业项目——Inception_V3 迁移"
   ]
  },
  {
   "cell_type": "markdown",
   "metadata": {},
   "source": [
    "## 开始\n",
    "导入一切并我们设置所使用的GPU。\n",
    "- dev1: Tesla K40c"
   ]
  },
  {
   "cell_type": "code",
   "execution_count": 1,
   "metadata": {},
   "outputs": [
    {
     "name": "stderr",
     "output_type": "stream",
     "text": [
      "/home/pengjun/.conda/envs/keras/lib/python3.6/site-packages/h5py/__init__.py:36: FutureWarning: Conversion of the second argument of issubdtype from `float` to `np.floating` is deprecated. In future, it will be treated as `np.float64 == np.dtype(float).type`.\n",
      "  from ._conv import register_converters as _register_converters\n",
      "Using TensorFlow backend.\n"
     ]
    }
   ],
   "source": [
    "%matplotlib inline\n",
    "#import utilities\n",
    "import os\n",
    "import shutil\n",
    "import numpy as np\n",
    "import random\n",
    "from tqdm import tqdm  \n",
    "from time import time\n",
    "from PIL import Image\n",
    "import h5py\n",
    "import pandas as pd\n",
    "from helper import *\n",
    "\n",
    "from keras.models import *\n",
    "from keras.layers import *\n",
    "from keras.applications import *\n",
    "from keras.preprocessing.image import *\n",
    "from keras.callbacks import *\n",
    "from keras.optimizers import *\n",
    "from keras.utils import *\n",
    "from keras import backend as K\n",
    "\n",
    "#如果系统上有多块GPU，“0”可以替换成其它GPU的编号\n",
    "os.environ[\"CUDA_VISIBLE_DEVICES\"] = \"1\""
   ]
  },
  {
   "cell_type": "markdown",
   "metadata": {},
   "source": [
    "## 数据文件处理\n",
    "训练数据包括12500张猫的图片和12500张狗的图片。我们为数据文件建立symbol link并划分为训练集和验证集，所使用的方法参考了[这里](https://github.com/ypwhs/dogs_vs_cats)。"
   ]
  },
  {
   "cell_type": "code",
   "execution_count": 2,
   "metadata": {},
   "outputs": [
    {
     "name": "stderr",
     "output_type": "stream",
     "text": [
      "100%|██████████| 25000/25000 [00:00<00:00, 149514.63it/s]\n",
      "100%|██████████| 12500/12500 [00:00<00:00, 191037.12it/s]\n"
     ]
    }
   ],
   "source": [
    "#为数据连理symbol-link\n",
    "train_data_dir, valid_data_dir, test_data_dir = prepare_data_file()"
   ]
  },
  {
   "cell_type": "code",
   "execution_count": 3,
   "metadata": {},
   "outputs": [],
   "source": [
    "#导入训练数据和测试数据\n",
    "X_train, Y_train, X_test = load_feature_data(\"feature_inception_v3.h5\")"
   ]
  },
  {
   "cell_type": "code",
   "execution_count": 5,
   "metadata": {
    "scrolled": true
   },
   "outputs": [],
   "source": [
    "#构造模型并显示所有网络层的名称\n",
    "input_tensor = Input(X_train.shape[1:])\n",
    "x = Dropout(0.5)(input_tensor)\n",
    "x = Dense(1, activation='sigmoid')(x)\n",
    "model = Model(input_tensor, x)\n",
    "\n",
    "model.compile(optimizer='adadelta',\n",
    "              loss='binary_crossentropy',\n",
    "              metrics=['accuracy'])\n"
   ]
  },
  {
   "cell_type": "code",
   "execution_count": 6,
   "metadata": {
    "scrolled": true
   },
   "outputs": [
    {
     "name": "stdout",
     "output_type": "stream",
     "text": [
      "Train on 20000 samples, validate on 5000 samples\n",
      "Epoch 1/20\n",
      "20000/20000 [==============================] - 1s 45us/step - loss: 0.1293 - acc: 0.9665 - val_loss: 0.0404 - val_acc: 0.9906\n",
      "\n",
      "Epoch 00001: val_loss improved from inf to 0.04039, saving model to inception-tune0-best_weight.h5\n",
      "Epoch 2/20\n",
      "20000/20000 [==============================] - 0s 22us/step - loss: 0.0405 - acc: 0.9896 - val_loss: 0.0243 - val_acc: 0.9926\n",
      "\n",
      "Epoch 00002: val_loss improved from 0.04039 to 0.02434, saving model to inception-tune0-best_weight.h5\n",
      "Epoch 3/20\n",
      "20000/20000 [==============================] - 0s 22us/step - loss: 0.0314 - acc: 0.9911 - val_loss: 0.0211 - val_acc: 0.9932\n",
      "\n",
      "Epoch 00003: val_loss improved from 0.02434 to 0.02110, saving model to inception-tune0-best_weight.h5\n",
      "Epoch 4/20\n",
      "20000/20000 [==============================] - 0s 24us/step - loss: 0.0290 - acc: 0.9919 - val_loss: 0.0191 - val_acc: 0.9934\n",
      "\n",
      "Epoch 00004: val_loss improved from 0.02110 to 0.01906, saving model to inception-tune0-best_weight.h5\n",
      "Epoch 5/20\n",
      "20000/20000 [==============================] - 1s 36us/step - loss: 0.0264 - acc: 0.9917 - val_loss: 0.0177 - val_acc: 0.9944\n",
      "\n",
      "Epoch 00005: val_loss improved from 0.01906 to 0.01767, saving model to inception-tune0-best_weight.h5\n",
      "Epoch 6/20\n",
      "20000/20000 [==============================] - 1s 36us/step - loss: 0.0248 - acc: 0.9923 - val_loss: 0.0175 - val_acc: 0.9946\n",
      "\n",
      "Epoch 00006: val_loss improved from 0.01767 to 0.01754, saving model to inception-tune0-best_weight.h5\n",
      "Epoch 7/20\n",
      "20000/20000 [==============================] - 1s 36us/step - loss: 0.0231 - acc: 0.9929 - val_loss: 0.0174 - val_acc: 0.9940\n",
      "\n",
      "Epoch 00007: val_loss improved from 0.01754 to 0.01738, saving model to inception-tune0-best_weight.h5\n",
      "Epoch 8/20\n",
      "20000/20000 [==============================] - 1s 36us/step - loss: 0.0232 - acc: 0.9924 - val_loss: 0.0166 - val_acc: 0.9944\n",
      "\n",
      "Epoch 00008: val_loss improved from 0.01738 to 0.01662, saving model to inception-tune0-best_weight.h5\n",
      "Epoch 9/20\n",
      "20000/20000 [==============================] - 1s 44us/step - loss: 0.0216 - acc: 0.9927 - val_loss: 0.0161 - val_acc: 0.9944\n",
      "\n",
      "Epoch 00009: val_loss improved from 0.01662 to 0.01612, saving model to inception-tune0-best_weight.h5\n",
      "Epoch 10/20\n",
      "20000/20000 [==============================] - 1s 44us/step - loss: 0.0218 - acc: 0.9931 - val_loss: 0.0162 - val_acc: 0.9950\n",
      "\n",
      "Epoch 00010: val_loss did not improve\n",
      "Epoch 11/20\n",
      "20000/20000 [==============================] - 1s 44us/step - loss: 0.0204 - acc: 0.9933 - val_loss: 0.0167 - val_acc: 0.9946\n",
      "\n",
      "Epoch 00011: val_loss did not improve\n",
      "Epoch 12/20\n",
      "20000/20000 [==============================] - 1s 44us/step - loss: 0.0215 - acc: 0.9935 - val_loss: 0.0159 - val_acc: 0.9942\n",
      "\n",
      "Epoch 00012: val_loss improved from 0.01612 to 0.01590, saving model to inception-tune0-best_weight.h5\n",
      "Epoch 13/20\n",
      "20000/20000 [==============================] - 1s 44us/step - loss: 0.0221 - acc: 0.9929 - val_loss: 0.0183 - val_acc: 0.9934\n",
      "\n",
      "Epoch 00013: val_loss did not improve\n",
      "Epoch 14/20\n",
      "20000/20000 [==============================] - 1s 44us/step - loss: 0.0210 - acc: 0.9936 - val_loss: 0.0169 - val_acc: 0.9942\n",
      "\n",
      "Epoch 00014: val_loss did not improve\n",
      "Epoch 15/20\n",
      "20000/20000 [==============================] - 1s 44us/step - loss: 0.0202 - acc: 0.9939 - val_loss: 0.0162 - val_acc: 0.9938\n",
      "\n",
      "Epoch 00015: val_loss did not improve\n",
      "Epoch 16/20\n",
      "20000/20000 [==============================] - 1s 44us/step - loss: 0.0218 - acc: 0.9928 - val_loss: 0.0155 - val_acc: 0.9952\n",
      "\n",
      "Epoch 00016: val_loss improved from 0.01590 to 0.01555, saving model to inception-tune0-best_weight.h5\n",
      "Epoch 17/20\n",
      "20000/20000 [==============================] - 1s 44us/step - loss: 0.0202 - acc: 0.9935 - val_loss: 0.0156 - val_acc: 0.9942\n",
      "\n",
      "Epoch 00017: val_loss did not improve\n",
      "Epoch 18/20\n",
      "20000/20000 [==============================] - 1s 37us/step - loss: 0.0201 - acc: 0.9933 - val_loss: 0.0160 - val_acc: 0.9940\n",
      "\n",
      "Epoch 00018: val_loss did not improve\n",
      "Epoch 19/20\n",
      "20000/20000 [==============================] - 1s 28us/step - loss: 0.0198 - acc: 0.9931 - val_loss: 0.0154 - val_acc: 0.9946\n",
      "\n",
      "Epoch 00019: val_loss improved from 0.01555 to 0.01536, saving model to inception-tune0-best_weight.h5\n",
      "Epoch 20/20\n",
      "20000/20000 [==============================] - 1s 30us/step - loss: 0.0193 - acc: 0.9941 - val_loss: 0.0161 - val_acc: 0.9952\n",
      "\n",
      "Epoch 00020: val_loss did not improve\n"
     ]
    },
    {
     "data": {
      "text/plain": [
       "<keras.callbacks.History at 0x7f3eae4444e0>"
      ]
     },
     "execution_count": 6,
     "metadata": {},
     "output_type": "execute_result"
    }
   ],
   "source": [
    "#训练模型并导出权重参数\n",
    "filepath=\"inception-tune0-best_weight.h5\"\n",
    "checkpoint = ModelCheckpoint(filepath, monitor='val_loss', verbose=1, save_best_only=True, mode='min',save_weights_only=True)\n",
    "callbacks_list = [checkpoint]\n",
    "model.fit(X_train, Y_train, batch_size=128, epochs=20, validation_split=0.2, shuffle=True,\n",
    "         callbacks=callbacks_list)"
   ]
  },
  {
   "cell_type": "code",
   "execution_count": 7,
   "metadata": {},
   "outputs": [
    {
     "name": "stdout",
     "output_type": "stream",
     "text": [
      "12500/12500 [==============================] - 0s 38us/step\n",
      "Found 12500 images belonging to 1 classes.\n"
     ]
    },
    {
     "name": "stderr",
     "output_type": "stream",
     "text": [
      "/home/pengjun/DLND/Cat_vs_Dog/helper.py:130: FutureWarning: set_value is deprecated and will be removed in a future release. Please use .at[] or .iat[] accessors instead\n",
      "  df.set_value(index-1, 'label', y_test[i])\n"
     ]
    }
   ],
   "source": [
    "#在测试集上进行预测并导出预测值\n",
    "predict_on_model(test_data_dir, X_test, model, \"pred-inception-tune0.csv\")"
   ]
  },
  {
   "cell_type": "markdown",
   "metadata": {},
   "source": [
    "> 这一模型在Kaggle上的得分为0.04117."
   ]
  }
 ],
 "metadata": {
  "anaconda-cloud": {},
  "kernelspec": {
   "display_name": "Python 3",
   "language": "python",
   "name": "python3"
  },
  "language_info": {
   "codemirror_mode": {
    "name": "ipython",
    "version": 3
   },
   "file_extension": ".py",
   "mimetype": "text/x-python",
   "name": "python",
   "nbconvert_exporter": "python",
   "pygments_lexer": "ipython3",
   "version": "3.6.4"
  }
 },
 "nbformat": 4,
 "nbformat_minor": 2
}
