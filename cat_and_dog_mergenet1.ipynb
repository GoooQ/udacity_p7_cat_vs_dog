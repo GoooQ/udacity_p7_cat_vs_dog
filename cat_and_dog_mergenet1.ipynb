{
 "cells": [
  {
   "cell_type": "markdown",
   "metadata": {},
   "source": [
    "# 猫狗大战 毕业项目\n",
    "猫狗大战是一个图片分类项目。根据所给出的图片，判断图片中的是猫还是狗。对于这一二分类问题，我们采用基于预训练网络的迁移学习的方法构造模型。\n"
   ]
  },
  {
   "cell_type": "markdown",
   "metadata": {},
   "source": [
    "## 开始\n",
    "导入一切并我们设置所使用的GPU。\n",
    "- dev1 K40c"
   ]
  },
  {
   "cell_type": "code",
   "execution_count": 2,
   "metadata": {},
   "outputs": [
    {
     "name": "stderr",
     "output_type": "stream",
     "text": [
      "/home/pengjun/.conda/envs/keras/lib/python3.6/site-packages/h5py/__init__.py:36: FutureWarning: Conversion of the second argument of issubdtype from `float` to `np.floating` is deprecated. In future, it will be treated as `np.float64 == np.dtype(float).type`.\n",
      "  from ._conv import register_converters as _register_converters\n",
      "Using TensorFlow backend.\n"
     ]
    }
   ],
   "source": [
    "%matplotlib inline\n",
    "#import utilities\n",
    "import os\n",
    "import shutil\n",
    "import numpy as np\n",
    "import random\n",
    "from tqdm import tqdm  \n",
    "from time import time\n",
    "from PIL import Image\n",
    "import h5py\n",
    "import pandas as pd\n",
    "\n",
    "from keras.models import *\n",
    "from keras.layers import *\n",
    "from keras.applications import *\n",
    "from keras.preprocessing.image import *\n",
    "from keras.callbacks import *\n",
    "from keras.optimizers import *\n",
    "from keras.utils import *\n",
    "from keras import backend as K\n",
    "from resnext import *\n",
    "from helper import *\n",
    "\n",
    "from sklearn.utils import shuffle\n",
    "\n",
    "os.environ[\"CUDA_VISIBLE_DEVICES\"] = \"1\""
   ]
  },
  {
   "cell_type": "markdown",
   "metadata": {},
   "source": [
    "## 数据文件处理\n",
    "训练数据包括12500张猫的图片和12500张狗的图片。我们为数据文件建立symbol link并划分为训练集和验证集，所使用的方法参考了[这里](https://github.com/ypwhs/dogs_vs_cats)。"
   ]
  },
  {
   "cell_type": "code",
   "execution_count": 2,
   "metadata": {},
   "outputs": [],
   "source": [
    "#为数据建立symbol link并划分为训练集和验证集\n",
    "def prepare_data_file():    \n",
    "    work_dir  = os.getcwd()\n",
    "    train_dir = work_dir + \"/train/\"\n",
    "    test_dir  = work_dir + \"/test/\"\n",
    "    data_dir  = work_dir + \"/data/\"\n",
    "    \n",
    "    if(os.path.exists(data_dir)):\n",
    "        shutil.rmtree(data_dir)\n",
    "        \n",
    "    split_train_dir = work_dir+\"/data/train\"\n",
    "    split_test_dir  = work_dir+\"/data/test\"\n",
    "    os.mkdir(data_dir)\n",
    "    \n",
    "    os.mkdir(split_train_dir)\n",
    "    os.mkdir(split_train_dir+\"/dog\")\n",
    "    os.mkdir(split_train_dir+\"/cat\")\n",
    "    os.mkdir(split_test_dir)\n",
    "    os.mkdir(split_test_dir+\"/test\")\n",
    "        \n",
    "    train_files = os.listdir(train_dir)    \n",
    "    num_train_files = len(train_files)\n",
    "    for i in tqdm(range(num_train_files)):\n",
    "        file = train_files[i]\n",
    "        if \"dog\" in file.split('.'):\n",
    "            os.symlink(train_dir+file, split_train_dir+\"/dog/\"+file)\n",
    "        else:\n",
    "            os.symlink(train_dir+file, split_train_dir+\"/cat/\"+file)\n",
    "    \n",
    "    test_files = os.listdir(test_dir)    \n",
    "    num_test_files = len(test_files)\n",
    "    for i in tqdm(range(num_test_files)):\n",
    "        file = test_files[i]\n",
    "        os.symlink(test_dir+file, split_test_dir+\"/test/\"+file)\n",
    "        \n",
    "    return split_train_dir, split_test_dir"
   ]
  },
  {
   "cell_type": "code",
   "execution_count": 3,
   "metadata": {},
   "outputs": [
    {
     "name": "stderr",
     "output_type": "stream",
     "text": [
      "100%|██████████| 25000/25000 [00:00<00:00, 159992.19it/s]\n",
      "100%|██████████| 12500/12500 [00:00<00:00, 185895.98it/s]\n"
     ]
    }
   ],
   "source": [
    "#为数据连理symbol-link\n",
    "train_data_dir, test_data_dir = prepare_data_file()"
   ]
  },
  {
   "cell_type": "markdown",
   "metadata": {},
   "source": [
    "## 基准模型\n",
    "我们考虑融合三个模型作为我们的基准模型。这里我们选择五种模型作为候选模型：\n",
    "- [ResNet](https://arxiv.org/abs/1512.03385)\n",
    "- [Xception](https://arxiv.org/abs/1610.02357)\n",
    "- [InceptionV3](https://arxiv.org/abs/1512.00567)\n",
    "- [DenseNet](https://arxiv.org/abs/1608.06993)\n",
    "- [NASNet](https://arxiv.org/abs/1707.07012)\n",
    "\n",
    "对于融合模型的方法和过程，我们参考了[这里](https://github.com/ypwhs/dogs_vs_cats)的内容，在此感谢@培神的分享。"
   ]
  },
  {
   "cell_type": "markdown",
   "metadata": {},
   "source": [
    "### 导出各个模型的特征向量"
   ]
  },
  {
   "cell_type": "markdown",
   "metadata": {},
   "source": [
    "基于在ImageNet上进行预训练的ResNet、Xception和DenseNet169，导出训练集和测试集的特征。"
   ]
  },
  {
   "cell_type": "code",
   "execution_count": 4,
   "metadata": {
    "scrolled": true
   },
   "outputs": [
    {
     "name": "stdout",
     "output_type": "stream",
     "text": [
      "Found 25000 images belonging to 2 classes.\n",
      "Found 12500 images belonging to 1 classes.\n",
      "25000\n",
      "12500\n",
      "25000/25000 [==============================] - 734s 29ms/step\n",
      "12500/12500 [==============================] - 367s 29ms/step\n"
     ]
    }
   ],
   "source": [
    "#导出ResNet特征数据\n",
    "write_feature_data(ResNet50, (224, 224),\n",
    "                   train_dir = train_data_dir, \n",
    "                   test_dir = test_data_dir, \n",
    "                   batch_size=1)"
   ]
  },
  {
   "cell_type": "code",
   "execution_count": 4,
   "metadata": {},
   "outputs": [
    {
     "name": "stdout",
     "output_type": "stream",
     "text": [
      "Found 25000 images belonging to 2 classes.\n",
      "Found 12500 images belonging to 1 classes.\n",
      "25000\n",
      "12500\n",
      "25000/25000 [==============================] - 903s 36ms/step\n",
      "12500/12500 [==============================] - 451s 36ms/step\n"
     ]
    }
   ],
   "source": [
    "#导出Xception特征数据\n",
    "write_feature_data(Xception, (299, 299),\n",
    "                   train_dir = train_data_dir, \n",
    "                   test_dir = test_data_dir, \n",
    "                   batch_size=1,\n",
    "                   preprocess_input=xception.preprocess_input)"
   ]
  },
  {
   "cell_type": "code",
   "execution_count": 4,
   "metadata": {},
   "outputs": [
    {
     "name": "stdout",
     "output_type": "stream",
     "text": [
      "Found 25000 images belonging to 2 classes.\n",
      "Found 12500 images belonging to 1 classes.\n",
      "25000\n",
      "12500\n",
      "25000/25000 [==============================] - 1472s 59ms/step\n",
      "12500/12500 [==============================] - 735s 59ms/step\n"
     ]
    }
   ],
   "source": [
    "#导出DenseNet169特征数据\n",
    "write_feature_data(DenseNet169, (224,224),\n",
    "                   train_dir = train_data_dir, \n",
    "                   test_dir = test_data_dir, \n",
    "                   batch_size=1,\n",
    "                   preprocess_input=densenet.preprocess_input)"
   ]
  },
  {
   "cell_type": "code",
   "execution_count": 4,
   "metadata": {},
   "outputs": [
    {
     "name": "stdout",
     "output_type": "stream",
     "text": [
      "Found 25000 images belonging to 2 classes.\n",
      "Found 12500 images belonging to 1 classes.\n",
      "25000\n",
      "12500\n",
      "25000/25000 [==============================] - 1029s 41ms/step\n",
      "12500/12500 [==============================] - 516s 41ms/step\n"
     ]
    }
   ],
   "source": [
    "#导出Inception_V3特征数据\n",
    "write_feature_data(InceptionV3, (299,299),\n",
    "                   train_dir = train_data_dir, \n",
    "                   test_dir = test_data_dir, \n",
    "                   batch_size=1,\n",
    "                   preprocess_input=inception_v3.preprocess_input)"
   ]
  },
  {
   "cell_type": "code",
   "execution_count": 4,
   "metadata": {},
   "outputs": [
    {
     "name": "stdout",
     "output_type": "stream",
     "text": [
      "Found 25000 images belonging to 2 classes.\n",
      "Found 12500 images belonging to 1 classes.\n",
      "25000\n",
      "12500\n",
      "25000/25000 [==============================] - 842s 34ms/step\n",
      "12500/12500 [==============================] - 420s 34ms/step\n"
     ]
    }
   ],
   "source": [
    "#导出NASNetMobile特征数据\n",
    "write_feature_data(NASNetMobile, (224,224),\n",
    "                   train_dir = train_data_dir, \n",
    "                   test_dir = test_data_dir, \n",
    "                   batch_size=1,\n",
    "                   preprocess_input=xception.preprocess_input)"
   ]
  },
  {
   "cell_type": "markdown",
   "metadata": {},
   "source": [
    "## 构建网络并训练\n",
    "基于这些导出的特征，我们构建并训练猫狗问题的网络。在此，我们只需要给出全连接层即可。"
   ]
  },
  {
   "cell_type": "code",
   "execution_count": 4,
   "metadata": {},
   "outputs": [],
   "source": [
    "#从文件中读取特征向量和标签\n",
    "np.random.seed(2017)\n",
    "\n",
    "X_train = []\n",
    "X_test = []\n",
    "\n",
    "for filename in [\"feature_resnet50.h5\", \"feature_xception.h5\", \"feature_inception_v3.h5\"]:\n",
    "    with h5py.File(filename, 'r') as h:\n",
    "        X_train.append(np.array(h['train']))\n",
    "        X_test.append(np.array(h['test']))\n",
    "        Y_train = np.array(h['label'])\n",
    "\n",
    "X_train = np.concatenate(X_train, axis=1)\n",
    "X_test = np.concatenate(X_test, axis=1)\n",
    "\n",
    "X_train, Y_train = shuffle(X_train, Y_train)"
   ]
  },
  {
   "cell_type": "code",
   "execution_count": 5,
   "metadata": {
    "scrolled": true
   },
   "outputs": [],
   "source": [
    "#建立顶层网络结构\n",
    "input_tensor = Input(X_train.shape[1:])\n",
    "x = Dropout(0.5)(input_tensor)\n",
    "x = Dense(1, activation='sigmoid')(x)\n",
    "model = Model(input_tensor, x)\n",
    "\n",
    "model.compile(optimizer='adadelta',\n",
    "              loss='binary_crossentropy',\n",
    "              metrics=['accuracy'])"
   ]
  },
  {
   "cell_type": "code",
   "execution_count": 8,
   "metadata": {},
   "outputs": [],
   "source": [
    "plot_model(model,show_shapes=True)"
   ]
  },
  {
   "cell_type": "code",
   "execution_count": 7,
   "metadata": {
    "scrolled": true
   },
   "outputs": [
    {
     "name": "stdout",
     "output_type": "stream",
     "text": [
      "Train on 20000 samples, validate on 5000 samples\n",
      "Epoch 1/20\n",
      "20000/20000 [==============================] - 2s 110us/step - loss: 0.0810 - acc: 0.9722 - val_loss: 0.0185 - val_acc: 0.9956\n",
      "\n",
      "Epoch 00001: val_loss improved from inf to 0.01851, saving model to mergenet-best_weight.h5\n",
      "Epoch 2/20\n",
      "20000/20000 [==============================] - 1s 43us/step - loss: 0.0235 - acc: 0.9932 - val_loss: 0.0144 - val_acc: 0.9950\n",
      "\n",
      "Epoch 00002: val_loss improved from 0.01851 to 0.01441, saving model to mergenet-best_weight.h5\n",
      "Epoch 3/20\n",
      "20000/20000 [==============================] - 1s 45us/step - loss: 0.0178 - acc: 0.9949 - val_loss: 0.0144 - val_acc: 0.9946\n",
      "\n",
      "Epoch 00003: val_loss improved from 0.01441 to 0.01439, saving model to mergenet-best_weight.h5\n",
      "Epoch 4/20\n",
      "20000/20000 [==============================] - 1s 49us/step - loss: 0.0162 - acc: 0.9950 - val_loss: 0.0111 - val_acc: 0.9970\n",
      "\n",
      "Epoch 00004: val_loss improved from 0.01439 to 0.01109, saving model to mergenet-best_weight.h5\n",
      "Epoch 5/20\n",
      "20000/20000 [==============================] - 1s 45us/step - loss: 0.0141 - acc: 0.9955 - val_loss: 0.0097 - val_acc: 0.9968\n",
      "\n",
      "Epoch 00005: val_loss improved from 0.01109 to 0.00974, saving model to mergenet-best_weight.h5\n",
      "Epoch 6/20\n",
      "20000/20000 [==============================] - 1s 51us/step - loss: 0.0141 - acc: 0.9956 - val_loss: 0.0094 - val_acc: 0.9966\n",
      "\n",
      "Epoch 00006: val_loss improved from 0.00974 to 0.00938, saving model to mergenet-best_weight.h5\n",
      "Epoch 7/20\n",
      "20000/20000 [==============================] - 1s 50us/step - loss: 0.0120 - acc: 0.9961 - val_loss: 0.0101 - val_acc: 0.9962\n",
      "\n",
      "Epoch 00007: val_loss did not improve\n",
      "Epoch 8/20\n",
      "20000/20000 [==============================] - 1s 48us/step - loss: 0.0118 - acc: 0.9963 - val_loss: 0.0106 - val_acc: 0.9960\n",
      "\n",
      "Epoch 00008: val_loss did not improve\n",
      "Epoch 9/20\n",
      "20000/20000 [==============================] - 1s 46us/step - loss: 0.0127 - acc: 0.9960 - val_loss: 0.0093 - val_acc: 0.9964\n",
      "\n",
      "Epoch 00009: val_loss improved from 0.00938 to 0.00932, saving model to mergenet-best_weight.h5\n",
      "Epoch 10/20\n",
      "20000/20000 [==============================] - 1s 47us/step - loss: 0.0106 - acc: 0.9965 - val_loss: 0.0104 - val_acc: 0.9960\n",
      "\n",
      "Epoch 00010: val_loss did not improve\n",
      "Epoch 11/20\n",
      "20000/20000 [==============================] - 1s 48us/step - loss: 0.0108 - acc: 0.9963 - val_loss: 0.0092 - val_acc: 0.9962\n",
      "\n",
      "Epoch 00011: val_loss improved from 0.00932 to 0.00925, saving model to mergenet-best_weight.h5\n",
      "Epoch 12/20\n",
      "20000/20000 [==============================] - 1s 50us/step - loss: 0.0095 - acc: 0.9969 - val_loss: 0.0103 - val_acc: 0.9962\n",
      "\n",
      "Epoch 00012: val_loss did not improve\n",
      "Epoch 13/20\n",
      "20000/20000 [==============================] - 1s 48us/step - loss: 0.0094 - acc: 0.9970 - val_loss: 0.0130 - val_acc: 0.9952\n",
      "\n",
      "Epoch 00013: val_loss did not improve\n",
      "Epoch 14/20\n",
      "20000/20000 [==============================] - 1s 47us/step - loss: 0.0101 - acc: 0.9966 - val_loss: 0.0091 - val_acc: 0.9970\n",
      "\n",
      "Epoch 00014: val_loss improved from 0.00925 to 0.00910, saving model to mergenet-best_weight.h5\n",
      "Epoch 15/20\n",
      "20000/20000 [==============================] - 1s 42us/step - loss: 0.0089 - acc: 0.9972 - val_loss: 0.0142 - val_acc: 0.9940\n",
      "\n",
      "Epoch 00015: val_loss did not improve\n",
      "Epoch 16/20\n",
      "20000/20000 [==============================] - 1s 45us/step - loss: 0.0094 - acc: 0.9971 - val_loss: 0.0093 - val_acc: 0.9972\n",
      "\n",
      "Epoch 00016: val_loss did not improve\n",
      "Epoch 17/20\n",
      "20000/20000 [==============================] - 1s 51us/step - loss: 0.0085 - acc: 0.9972 - val_loss: 0.0096 - val_acc: 0.9962\n",
      "\n",
      "Epoch 00017: val_loss did not improve\n",
      "Epoch 18/20\n",
      "20000/20000 [==============================] - 1s 40us/step - loss: 0.0079 - acc: 0.9976 - val_loss: 0.0102 - val_acc: 0.9962\n",
      "\n",
      "Epoch 00018: val_loss did not improve\n",
      "Epoch 19/20\n",
      "20000/20000 [==============================] - 1s 49us/step - loss: 0.0084 - acc: 0.9970 - val_loss: 0.0096 - val_acc: 0.9966\n",
      "\n",
      "Epoch 00019: val_loss did not improve\n",
      "Epoch 20/20\n",
      "20000/20000 [==============================] - 1s 52us/step - loss: 0.0075 - acc: 0.9977 - val_loss: 0.0101 - val_acc: 0.9956\n",
      "\n",
      "Epoch 00020: val_loss did not improve\n"
     ]
    }
   ],
   "source": [
    "#训练模型并保存顶层网络参数\n",
    "filepath=\"mergenet-best_weight.h5\"\n",
    "checkpoint = ModelCheckpoint(filepath, monitor='val_loss', verbose=1, save_best_only=True, mode='min',save_weights_only=True)\n",
    "callbacks_list = [checkpoint]\n",
    "model.fit(X_train, Y_train, batch_size=128, epochs=20, validation_split=0.2, shuffle=True,\n",
    "         callbacks=callbacks_list)\n",
    "model.save_weights(\"mergenet-dog-cat.h5\")"
   ]
  },
  {
   "cell_type": "markdown",
   "metadata": {},
   "source": [
    "## 在测试集上进行预测"
   ]
  },
  {
   "cell_type": "code",
   "execution_count": 8,
   "metadata": {},
   "outputs": [
    {
     "name": "stdout",
     "output_type": "stream",
     "text": [
      "12500/12500 [==============================] - 1s 106us/step\n"
     ]
    }
   ],
   "source": [
    "#导入模型权重，并进行预测    \n",
    "model.load_weights('mergenet-best_weight.h5')\n",
    "y_test = model.predict(X_test, verbose=1)\n",
    "y_test = y_test.clip(min=0.005, max=0.995)"
   ]
  },
  {
   "cell_type": "code",
   "execution_count": 9,
   "metadata": {},
   "outputs": [
    {
     "name": "stdout",
     "output_type": "stream",
     "text": [
      "Found 12500 images belonging to 1 classes.\n"
     ]
    },
    {
     "name": "stderr",
     "output_type": "stream",
     "text": [
      "/home/pengjun/.conda/envs/keras/lib/python3.6/site-packages/ipykernel_launcher.py:9: FutureWarning: set_value is deprecated and will be removed in a future release. Please use .at[] or .iat[] accessors instead\n",
      "  if __name__ == '__main__':\n"
     ]
    },
    {
     "data": {
      "text/html": [
       "<div>\n",
       "<style scoped>\n",
       "    .dataframe tbody tr th:only-of-type {\n",
       "        vertical-align: middle;\n",
       "    }\n",
       "\n",
       "    .dataframe tbody tr th {\n",
       "        vertical-align: top;\n",
       "    }\n",
       "\n",
       "    .dataframe thead th {\n",
       "        text-align: right;\n",
       "    }\n",
       "</style>\n",
       "<table border=\"1\" class=\"dataframe\">\n",
       "  <thead>\n",
       "    <tr style=\"text-align: right;\">\n",
       "      <th></th>\n",
       "      <th>id</th>\n",
       "      <th>label</th>\n",
       "    </tr>\n",
       "  </thead>\n",
       "  <tbody>\n",
       "    <tr>\n",
       "      <th>0</th>\n",
       "      <td>1</td>\n",
       "      <td>0.995</td>\n",
       "    </tr>\n",
       "    <tr>\n",
       "      <th>1</th>\n",
       "      <td>2</td>\n",
       "      <td>0.995</td>\n",
       "    </tr>\n",
       "    <tr>\n",
       "      <th>2</th>\n",
       "      <td>3</td>\n",
       "      <td>0.995</td>\n",
       "    </tr>\n",
       "    <tr>\n",
       "      <th>3</th>\n",
       "      <td>4</td>\n",
       "      <td>0.995</td>\n",
       "    </tr>\n",
       "    <tr>\n",
       "      <th>4</th>\n",
       "      <td>5</td>\n",
       "      <td>0.005</td>\n",
       "    </tr>\n",
       "    <tr>\n",
       "      <th>5</th>\n",
       "      <td>6</td>\n",
       "      <td>0.005</td>\n",
       "    </tr>\n",
       "    <tr>\n",
       "      <th>6</th>\n",
       "      <td>7</td>\n",
       "      <td>0.005</td>\n",
       "    </tr>\n",
       "    <tr>\n",
       "      <th>7</th>\n",
       "      <td>8</td>\n",
       "      <td>0.005</td>\n",
       "    </tr>\n",
       "    <tr>\n",
       "      <th>8</th>\n",
       "      <td>9</td>\n",
       "      <td>0.005</td>\n",
       "    </tr>\n",
       "    <tr>\n",
       "      <th>9</th>\n",
       "      <td>10</td>\n",
       "      <td>0.005</td>\n",
       "    </tr>\n",
       "  </tbody>\n",
       "</table>\n",
       "</div>"
      ],
      "text/plain": [
       "   id  label\n",
       "0   1  0.995\n",
       "1   2  0.995\n",
       "2   3  0.995\n",
       "3   4  0.995\n",
       "4   5  0.005\n",
       "5   6  0.005\n",
       "6   7  0.005\n",
       "7   8  0.005\n",
       "8   9  0.005\n",
       "9  10  0.005"
      ]
     },
     "execution_count": 9,
     "metadata": {},
     "output_type": "execute_result"
    }
   ],
   "source": [
    "df = pd.read_csv(\"sample_submission.csv\")\n",
    "\n",
    "gen = ImageDataGenerator()\n",
    "test_generator = gen.flow_from_directory(test_data_dir, (224, 224), shuffle=False, \n",
    "                                         batch_size=16, class_mode=None)\n",
    "\n",
    "for i, fname in enumerate(test_generator.filenames):\n",
    "    index = int(fname[fname.rfind('/')+1:fname.rfind('.')])\n",
    "    df.set_value(index-1, 'label', y_test[i])\n",
    "\n",
    "df.to_csv('pred-mergenet.csv', index=None)\n",
    "df.head(10)"
   ]
  },
  {
   "cell_type": "markdown",
   "metadata": {},
   "source": [
    "0.03852"
   ]
  }
 ],
 "metadata": {
  "anaconda-cloud": {},
  "kernelspec": {
   "display_name": "Python 3",
   "language": "python",
   "name": "python3"
  },
  "language_info": {
   "codemirror_mode": {
    "name": "ipython",
    "version": 3
   },
   "file_extension": ".py",
   "mimetype": "text/x-python",
   "name": "python",
   "nbconvert_exporter": "python",
   "pygments_lexer": "ipython3",
   "version": "3.6.4"
  }
 },
 "nbformat": 4,
 "nbformat_minor": 2
}
